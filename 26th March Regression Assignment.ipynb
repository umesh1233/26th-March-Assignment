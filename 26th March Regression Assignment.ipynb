{
 "cells": [
  {
   "cell_type": "markdown",
   "id": "95174659-9669-4c8c-be74-a75346630300",
   "metadata": {},
   "source": [
    "# Question 1:-\n",
    "# Answer:-"
   ]
  },
  {
   "cell_type": "code",
   "execution_count": null,
   "id": "8c389536-d0fb-4d4b-9d7b-6d73f2ace5f2",
   "metadata": {},
   "outputs": [],
   "source": [
    "Simple linear regression has only one x and one y variable. Multiple linear regression has one y and two or more x variables. For instance, when we predict rent based on square\n",
    "feet alone that is simple linear regression."
   ]
  },
  {
   "cell_type": "markdown",
   "id": "09b6e0b6-8af4-4c8c-84fd-0a59b7f5f4a0",
   "metadata": {},
   "source": [
    "# Question 2:-\n",
    "# Answer:-"
   ]
  },
  {
   "cell_type": "code",
   "execution_count": null,
   "id": "437bcc96-2bbb-490a-ba2a-2a91702ebfe1",
   "metadata": {},
   "outputs": [],
   "source": [
    "The simple way to determine if this assumption is met or not is by creating a scatter plot x vs y. If the data points fall on a straight\n",
    "line in the graph, there is a linear relationship between the dependent and the independent variables, and the assumption holds."
   ]
  },
  {
   "cell_type": "markdown",
   "id": "93b6a363-f232-4c0e-b5b9-77e1f8ef7d4a",
   "metadata": {},
   "source": [
    "# Question 3:-\n",
    "# Answer:-"
   ]
  },
  {
   "cell_type": "code",
   "execution_count": null,
   "id": "33c35309-5d49-4312-b78a-bb0e35591fe5",
   "metadata": {},
   "outputs": [],
   "source": [
    "If the speed of the club hitting the ball increases by 1 mph, then the model predicts that the length the ball travels increases by 57.66 yards.\n",
    "Interpret theintercept: If the ball is hit with a speed of 0 mph, then the model predicts that the length the ball travels will be 3.18 yards."
   ]
  },
  {
   "cell_type": "markdown",
   "id": "540ef037-d323-437c-9016-d287ae3f77f9",
   "metadata": {},
   "source": [
    "# Question 4:-\n",
    "# Answer:-"
   ]
  },
  {
   "cell_type": "code",
   "execution_count": null,
   "id": "0632fc2c-68fb-495d-9353-74e1a8a6c167",
   "metadata": {},
   "outputs": [],
   "source": [
    "Gradient descent (GD) is an iterative first-order optimisation algorithm, used to find a local minimum/maximum of a given function.\n",
    "This method is commonly used in machine learning (ML) and deep learning (DL) to minimise a cost/loss function (e.g. in a linear regression)."
   ]
  },
  {
   "cell_type": "markdown",
   "id": "2fda5fc3-c0d1-41a3-8b2c-e6e5bb7dfe22",
   "metadata": {},
   "source": [
    "# Question 5:-\n",
    "# Answer:-"
   ]
  },
  {
   "cell_type": "code",
   "execution_count": null,
   "id": "b62b60a5-e046-49cd-b547-5ec6427e0232",
   "metadata": {},
   "outputs": [],
   "source": [
    "Multiple regression is a broader class of regressions that encompasses linear and nonlinear regressions with multiple explanatory variables.\n",
    "Whereas linear regress only has one independent variable impacting the slope of the relationship, multiple regression incorporates multiple\n",
    "independent variables."
   ]
  },
  {
   "cell_type": "markdown",
   "id": "c07b9b3d-d129-458a-b40b-d9f3baab65fc",
   "metadata": {},
   "source": [
    "# Question 6:-\n",
    "# Answer:-"
   ]
  },
  {
   "cell_type": "code",
   "execution_count": null,
   "id": "6d7b69d7-0801-430f-9607-bffc74b2b3a9",
   "metadata": {},
   "outputs": [],
   "source": [
    "Multicollinearity exists whenever an independent variable is highly correlated with one or more of the other independent variables \n",
    "in a multiple regression equation. Multicollinearity is a problem because it will make the statistical inferences less reliable."
   ]
  },
  {
   "cell_type": "markdown",
   "id": "3f07c620-b4a6-4cdc-b9f5-7bff3d070b92",
   "metadata": {},
   "source": [
    "# Question 7:-\n",
    "# Answer:-"
   ]
  },
  {
   "cell_type": "code",
   "execution_count": null,
   "id": "48589e11-eedb-451b-ad61-6424837994a8",
   "metadata": {},
   "outputs": [],
   "source": [
    "A polynomial regression model is a machine learning model that can capture non-linear relationships between variables by fitting a non-linear regression line, which may not be \n",
    "possible with simple linear regression. It is used when linear regression models may not adequately capture the complexity of the relationship."
   ]
  },
  {
   "cell_type": "markdown",
   "id": "f99e05fd-ac9c-431d-93fb-9dd9bd4c9209",
   "metadata": {},
   "source": [
    "# Question 8:-\n",
    "# Answer:-"
   ]
  },
  {
   "cell_type": "code",
   "execution_count": null,
   "id": "c03667c9-1387-4bca-b4b6-bf37c893c7b6",
   "metadata": {},
   "outputs": [],
   "source": [
    "By allowing for more flexible curve fitting, polynomial regression can often provide a better fit to the data compared to linear regression. \n",
    "This can help in finding the best-fitting curve among different options. Local approximation: Polynomial regression can approximate."
   ]
  }
 ],
 "metadata": {
  "kernelspec": {
   "display_name": "Python 3 (ipykernel)",
   "language": "python",
   "name": "python3"
  },
  "language_info": {
   "codemirror_mode": {
    "name": "ipython",
    "version": 3
   },
   "file_extension": ".py",
   "mimetype": "text/x-python",
   "name": "python",
   "nbconvert_exporter": "python",
   "pygments_lexer": "ipython3",
   "version": "3.10.8"
  }
 },
 "nbformat": 4,
 "nbformat_minor": 5
}
